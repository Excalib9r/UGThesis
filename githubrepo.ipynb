{
 "cells": [
  {
   "cell_type": "code",
   "execution_count": null,
   "id": "febb0196",
   "metadata": {
    "execution": {
     "iopub.execute_input": "2024-09-22T04:50:34.086822Z",
     "iopub.status.busy": "2024-09-22T04:50:34.086077Z",
     "iopub.status.idle": "2024-09-22T04:50:34.094236Z",
     "shell.execute_reply": "2024-09-22T04:50:34.093049Z",
     "shell.execute_reply.started": "2024-09-22T04:50:34.086772Z"
    },
    "papermill": {
     "duration": 0.001884,
     "end_time": "2024-09-22T04:53:01.272997",
     "exception": false,
     "start_time": "2024-09-22T04:53:01.271113",
     "status": "completed"
    },
    "tags": []
   },
   "outputs": [],
   "source": []
  }
 ],
 "metadata": {
  "kaggle": {
   "accelerator": "none",
   "dataSources": [],
   "dockerImageVersionId": 30761,
   "isGpuEnabled": false,
   "isInternetEnabled": true,
   "language": "python",
   "sourceType": "notebook"
  },
  "kernelspec": {
   "display_name": "Python 3",
   "language": "python",
   "name": "python3"
  },
  "language_info": {
   "codemirror_mode": {
    "name": "ipython",
    "version": 3
   },
   "file_extension": ".py",
   "mimetype": "text/x-python",
   "name": "python",
   "nbconvert_exporter": "python",
   "pygments_lexer": "ipython3",
   "version": "3.10.14"
  },
  "papermill": {
   "default_parameters": {},
   "duration": 3.15377,
   "end_time": "2024-09-22T04:53:01.694826",
   "environment_variables": {},
   "exception": null,
   "input_path": "__notebook__.ipynb",
   "output_path": "__notebook__.ipynb",
   "parameters": {},
   "start_time": "2024-09-22T04:52:58.541056",
   "version": "2.6.0"
  }
 },
 "nbformat": 4,
 "nbformat_minor": 5
}
